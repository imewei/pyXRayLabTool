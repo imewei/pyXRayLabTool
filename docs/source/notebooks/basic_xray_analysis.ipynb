{
 "cells": [
  {
   "cell_type": "markdown",
   "metadata": {},
   "source": [
    "# Basic X-ray Analysis Tutorial\n",
    "\n",
    "This notebook demonstrates the basic usage of XRayLabTool for calculating X-ray optical properties of materials.\n",
    "\n",
    "## Installation\n",
    "\n",
    "```bash\n",
    "pip install xraylabtool\n",
    "```"
   ]
  },
  {
   "cell_type": "code",
   "execution_count": null,
   "metadata": {},
   "outputs": [],
   "source": [
    "import matplotlib.pyplot as plt\n",
    "import numpy as np\n",
    "\n",
    "import xraylabtool as xlt\n",
    "\n",
    "print(f\"XRayLabTool version: {xlt.__version__}\")"
   ]
  },
  {
   "cell_type": "markdown",
   "metadata": {},
   "source": [
    "## Single Material Analysis\n",
    "\n",
    "Let's calculate the X-ray properties of silicon at 10 keV:"
   ]
  },
  {
   "cell_type": "code",
   "execution_count": null,
   "metadata": {},
   "outputs": [],
   "source": [
    "# Calculate properties for silicon at 10 keV\n",
    "result = xlt.calculate_single_material_properties(\"Si\", 10.0, 2.33)\n",
    "\n",
    "print(f\"Formula: {result.formula}\")\n",
    "print(f\"Molecular Weight: {result.molecular_weight_g_mol:.2f} g/mol\")\n",
    "print(f\"Critical Angle: {result.critical_angle_degrees[0]:.3f}°\")\n",
    "print(f\"Attenuation Length: {result.attenuation_length_cm[0]:.2f} cm\")\n",
    "print(f\"Dispersion (δ): {result.dispersion_delta[0]:.2e}\")\n",
    "print(f\"Absorption (β): {result.absorption_beta[0]:.2e}\")"
   ]
  },
  {
   "cell_type": "markdown",
   "metadata": {},
   "source": [
    "## Energy Range Analysis\n",
    "\n",
    "Now let's analyze how these properties change over an energy range:"
   ]
  },
  {
   "cell_type": "code",
   "execution_count": null,
   "metadata": {},
   "outputs": [],
   "source": [
    "# Energy sweep from 5-15 keV\n",
    "energies = np.linspace(5.0, 15.0, 50)\n",
    "result = xlt.calculate_single_material_properties(\"Si\", energies, 2.33)\n",
    "\n",
    "# Create visualization\n",
    "fig, (ax1, ax2) = plt.subplots(1, 2, figsize=(12, 5))\n",
    "\n",
    "# Plot optical constants\n",
    "ax1.loglog(\n",
    "    result.energy_kev,\n",
    "    result.dispersion_delta,\n",
    "    \"b-\",\n",
    "    label=\"δ (dispersion)\",\n",
    "    linewidth=2,\n",
    ")\n",
    "ax1.loglog(\n",
    "    result.energy_kev, result.absorption_beta, \"r-\", label=\"β (absorption)\", linewidth=2\n",
    ")\n",
    "ax1.set_xlabel(\"Energy (keV)\")\n",
    "ax1.set_ylabel(\"Optical constants\")\n",
    "ax1.set_title(\"Silicon: Optical Constants\")\n",
    "ax1.legend()\n",
    "ax1.grid(True, alpha=0.3)\n",
    "\n",
    "# Plot critical angle\n",
    "ax2.semilogx(result.energy_kev, result.critical_angle_degrees, \"g-\", linewidth=2)\n",
    "ax2.set_xlabel(\"Energy (keV)\")\n",
    "ax2.set_ylabel(\"Critical angle (°)\")\n",
    "ax2.set_title(\"Silicon: Critical Angle\")\n",
    "ax2.grid(True, alpha=0.3)\n",
    "\n",
    "plt.tight_layout()\n",
    "plt.show()\n",
    "\n",
    "print(f\"Energy range: {result.energy_kev[0]:.1f} - {result.energy_kev[-1]:.1f} keV\")\n",
    "print(f\"Data points: {len(result.energy_kev)}\")"
   ]
  },
  {
   "cell_type": "markdown",
   "metadata": {},
   "source": [
    "## Multiple Materials Comparison\n",
    "\n",
    "Let's compare common X-ray optics materials:"
   ]
  },
  {
   "cell_type": "code",
   "execution_count": null,
   "metadata": {},
   "outputs": [],
   "source": [
    "# Compare common X-ray optics materials\n",
    "materials = {\n",
    "    \"SiO2\": 2.2,  # Fused silica\n",
    "    \"Si\": 2.33,  # Silicon\n",
    "    \"Al2O3\": 3.95,  # Sapphire\n",
    "    \"C\": 3.52,  # Diamond\n",
    "}\n",
    "\n",
    "formulas = list(materials.keys())\n",
    "densities = list(materials.values())\n",
    "energy = 10.0  # keV (Cu Kα)\n",
    "\n",
    "results = xlt.calculate_xray_properties(formulas, energy, densities)\n",
    "\n",
    "# Display comparison\n",
    "print(\"Material Comparison at 10 keV:\")\n",
    "print(\"=\" * 50)\n",
    "for formula, result in results.items():\n",
    "    print(\n",
    "        f\"{formula:8}: θc = {result.critical_angle_degrees[0]:.3f}°, \"\n",
    "        f\"δ = {result.dispersion_delta[0]:.2e}, \"\n",
    "        f\"μ = {result.attenuation_length_cm[0]:.1f} cm\"\n",
    "    )"
   ]
  },
  {
   "cell_type": "markdown",
   "metadata": {},
   "source": [
    "## Using the Command Line Interface\n",
    "\n",
    "XRayLabTool also provides a comprehensive CLI. Here are some examples:"
   ]
  },
  {
   "cell_type": "code",
   "execution_count": null,
   "metadata": {},
   "outputs": [],
   "source": [
    "# These commands can be run in terminal:\n",
    "print(\"CLI Examples:\")\n",
    "print(\"=\" * 40)\n",
    "print(\"# Single material calculation\")\n",
    "print(\"xraylabtool calc Si -e 10.0 -d 2.33\")\n",
    "print(\"\")\n",
    "print(\"# Energy range scan\")\n",
    "print(\"xraylabtool calc Si -e 5-15:11 -d 2.33 -o silicon_scan.csv\")\n",
    "print(\"\")\n",
    "print(\"# Unit conversion\")\n",
    "print(\"xraylabtool convert energy 10.0 --to wavelength\")\n",
    "print(\"\")\n",
    "print(\"# Install shell completion\")\n",
    "print(\"xraylabtool install-completion bash\")"
   ]
  },
  {
   "cell_type": "markdown",
   "metadata": {},
   "source": [
    "## Performance Features\n",
    "\n",
    "XRayLabTool includes advanced performance optimizations:"
   ]
  },
  {
   "cell_type": "code",
   "execution_count": null,
   "metadata": {},
   "outputs": [],
   "source": [
    "# Demonstrate high-performance batch processing\n",
    "import time\n",
    "\n",
    "# Large energy array\n",
    "energies = np.logspace(np.log10(1), np.log10(30), 1000)\n",
    "\n",
    "start_time = time.time()\n",
    "result = xlt.calculate_single_material_properties(\"SiO2\", energies, 2.2)\n",
    "elapsed = time.time() - start_time\n",
    "\n",
    "print(f\"Calculated {len(energies)} energy points in {elapsed:.3f} seconds\")\n",
    "print(f\"Performance: {len(energies) / elapsed:.0f} calculations/second\")\n",
    "print(f\"Energy range: {result.energy_kev[0]:.1f} - {result.energy_kev[-1]:.1f} keV\")"
   ]
  },
  {
   "cell_type": "markdown",
   "metadata": {},
   "source": [
    "## Next Steps\n",
    "\n",
    "- Explore the complete API documentation\n",
    "- Check out advanced tutorials\n",
    "- Visit the [GitHub repository](https://github.com/imewei/pyXRayLabTool) for examples\n",
    "- Read the [complete documentation](https://pyxraylabtool.readthedocs.io/)"
   ]
  }
 ],
 "metadata": {
  "kernelspec": {
   "display_name": "Python 3",
   "language": "python",
   "name": "python3"
  },
  "language_info": {
   "codemirror_mode": {
    "name": "ipython",
    "version": 3
   },
   "file_extension": ".py",
   "mimetype": "text/x-python",
   "name": "python",
   "nbconvert_exporter": "python",
   "pygments_lexer": "ipython3",
   "version": "3.12.0"
  }
 },
 "nbformat": 4,
 "nbformat_minor": 4
}
